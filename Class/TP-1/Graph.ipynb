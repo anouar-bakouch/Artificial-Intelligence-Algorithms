{
 "cells": [
  {
   "cell_type": "markdown",
   "metadata": {},
   "source": [
    "Exo 1 : parcours en largeur , en profondeur"
   ]
  },
  {
   "cell_type": "code",
   "execution_count": 9,
   "metadata": {},
   "outputs": [
    {
     "data": {
      "text/plain": [
       "['A', 'E', 'D', 'B', 'F', 'G', 'C', 'H']"
      ]
     },
     "execution_count": 9,
     "metadata": {},
     "output_type": "execute_result"
    }
   ],
   "source": [
    "# proposition pour le graphe : \n",
    "# un graphe peut etre represente par un dictionnaire\n",
    "# ou par une liste de listes\n",
    "# ou par une matrice d'adjacence , row \n",
    "\n",
    "graph = {\n",
    "    \"B\" : [\"C\",\"A\"],\n",
    "    \"A\" : [\"E\",\"D\",\"B\"],\n",
    "    \"C\" : [\"D\",\"B\"],\n",
    "    \"D\" : [\"A\",\"E\"],\n",
    "    \"E\" : [\"F\",\"G\"],\n",
    "    \"G\" : [\"H\",\"F\",\"E\"],\n",
    "    \"F\" : [\"E\",\"G\"],\n",
    "    \"H\" : [\"G\"]\n",
    "}\n",
    "    "
   ]
  },
  {
   "cell_type": "markdown",
   "metadata": {},
   "source": [
    "Parcours en Largeur "
   ]
  },
  {
   "cell_type": "code",
   "execution_count": 10,
   "metadata": {},
   "outputs": [
    {
     "data": {
      "text/plain": [
       "['A', 'E', 'D', 'B', 'F', 'G', 'C', 'H']"
      ]
     },
     "execution_count": 10,
     "metadata": {},
     "output_type": "execute_result"
    }
   ],
   "source": [
    "def parcoursLargeur(graphe,sommet):\n",
    "    # return : liste des sommets parcourues\n",
    "    # on utilise une file \n",
    "    # set for unique values\n",
    "    file = [sommet]\n",
    "    visite = set()\n",
    "    visite.add(sommet)\n",
    "    res = []\n",
    "    while file:\n",
    "        sommet = file.pop(0)\n",
    "        res.append(sommet)\n",
    "        for voisin in graphe[sommet]:\n",
    "            if voisin not in visite:\n",
    "                visite.add(voisin)\n",
    "                file.append(voisin)\n",
    "    return res\n",
    "\n",
    "parcoursLargeur(graph,\"A\")"
   ]
  },
  {
   "cell_type": "markdown",
   "metadata": {},
   "source": [
    "Parcours en Profondeur"
   ]
  },
  {
   "cell_type": "code",
   "execution_count": 11,
   "metadata": {},
   "outputs": [
    {
     "data": {
      "text/plain": [
       "['A', 'B', 'C', 'D', 'E', 'G', 'H', 'F']"
      ]
     },
     "execution_count": 11,
     "metadata": {},
     "output_type": "execute_result"
    }
   ],
   "source": [
    "def parcoursProfondeur(graphe,sommet):\n",
    "    # return : liste des sommets parcourues\n",
    "    # on utilise une pile \n",
    "    # set for unique values\n",
    "    pile = [sommet]\n",
    "    visite = set()\n",
    "    visite.add(sommet)\n",
    "    res = []\n",
    "    while pile:\n",
    "        sommet = pile.pop()\n",
    "        res.append(sommet)\n",
    "        for voisin in graphe[sommet]:\n",
    "            if voisin not in visite:\n",
    "                visite.add(voisin)\n",
    "                pile.append(voisin)\n",
    "    return res\n",
    "\n",
    "parcoursProfondeur(graph,\"A\")"
   ]
  }
 ],
 "metadata": {
  "kernelspec": {
   "display_name": "Python 3",
   "language": "python",
   "name": "python3"
  },
  "language_info": {
   "codemirror_mode": {
    "name": "ipython",
    "version": 3
   },
   "file_extension": ".py",
   "mimetype": "text/x-python",
   "name": "python",
   "nbconvert_exporter": "python",
   "pygments_lexer": "ipython3",
   "version": "3.10.12"
  }
 },
 "nbformat": 4,
 "nbformat_minor": 2
}
